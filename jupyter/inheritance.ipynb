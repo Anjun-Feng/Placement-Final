{
 "cells": [
  {
   "cell_type": "code",
   "execution_count": 32,
   "id": "0d63cdf0-1a86-418d-b042-cd457c3f6f52",
   "metadata": {},
   "outputs": [],
   "source": [
    "class Dog:\n",
    "    species = \"Canis familiaris\"\n",
    "\n",
    "    # Constructor for the Dog class\n",
    "    def __init__(self, name, age):\n",
    "        self.name = name\n",
    "        self.age = age\n",
    "\n",
    "    # String representation of the Dog object\n",
    "    def __str__(self):\n",
    "        return f\"{self.name} is {self.age} years old\"\n",
    "\n",
    "    def speak(self, sound):\n",
    "        return f\"{self.name} says {sound}\"\n",
    "\n",
    "class JackRussellTerrier(Dog):\n",
    "    def speak(self, sound=\"Arf\"):\n",
    "        return f\"{self.name} says {sound}\"\n",
    "\n",
    "class Dachshund(Dog):\n",
    "    def speak(self, sound=\"Arf!\"):\n",
    "        return super().speak(sound)\n",
    "\n",
    "class Bulldog(Dog):\n",
    "    def speak(self, sound=\"Woof!\"):\n",
    "        return super().speak(sound)"
   ]
  },
  {
   "cell_type": "code",
   "execution_count": 34,
   "id": "2075758b-a2a5-4b50-a7e5-48a240c87da7",
   "metadata": {},
   "outputs": [],
   "source": [
    "class JackRussellTerrier(Dog):\n",
    "    def speak(self, sound=\"Arf\"):\n",
    "        return f\"{self.name} says {sound}\"\n",
    "\n",
    "class Dachshund(Dog):\n",
    "    def speak(self, sound=\"Arf!\"):\n",
    "        return super().speak(sound)\n",
    "\n",
    "class Bulldog(Dog):\n",
    "    def speak(self, sound=\"Woof!\"):\n",
    "        return super().speak(sound)\n",
    "\n",
    "bulldog = Bulldog(\"bulldog\", 5)"
   ]
  },
  {
   "cell_type": "code",
   "execution_count": 36,
   "id": "dc429f99-b3eb-4984-9cb0-9e05af10e3b2",
   "metadata": {},
   "outputs": [
    {
     "name": "stdout",
     "output_type": "stream",
     "text": [
      "is bulldog an instance of Dog: True\n"
     ]
    }
   ],
   "source": [
    "print(\"is bulldog an instance of Dog: \" + str(isinstance(bulldog, Dog)))\n"
   ]
  },
  {
   "cell_type": "markdown",
   "id": "647443ba-f900-47c9-a1ea-d390cc65d27a",
   "metadata": {},
   "source": [
    "## Task 1"
   ]
  },
  {
   "cell_type": "code",
   "execution_count": 39,
   "id": "7f8e7c8d-0c48-4995-9c85-f10f59519bfc",
   "metadata": {},
   "outputs": [],
   "source": [
    "class Dog:\n",
    "    species = \"Canis familiaris\"\n",
    "\n",
    "    def __init__(self, name, age):\n",
    "        self.name = name\n",
    "        self.age = age\n",
    "\n",
    "    def __str__(self):\n",
    "        return f\"{self.name} is {self.age} years old\"\n",
    "\n",
    "    def speak(self, sound):\n",
    "        return f\"{self.name} says {sound}\"\n",
    "    \n",
    "class GoldenRetriever(Dog):\n",
    "    def speak(self, sound=\"Bark\"):\n",
    "        return f\"{self.name} says {sound}\""
   ]
  },
  {
   "cell_type": "markdown",
   "id": "683b99f0-9eda-4697-9df4-51f227514cce",
   "metadata": {},
   "source": [
    "## Task 2"
   ]
  },
  {
   "cell_type": "code",
   "execution_count": 62,
   "id": "f354a878-d504-4483-bbfb-a680e864f5dc",
   "metadata": {},
   "outputs": [
    {
     "name": "stdout",
     "output_type": "stream",
     "text": [
      "This white Haval Jolion HEV car has 500 kilometers.\n"
     ]
    }
   ],
   "source": [
    "class Car:\n",
    "    # model: str, year: int, colour: str, kilometerage: int\n",
    "    def __init__(self, make, model, year, colour, kilometerage):\n",
    "        self.make = make\n",
    "        self.model = model\n",
    "        self.year = year\n",
    "        self.colour = colour\n",
    "        self.kilometerage = kilometerage\n",
    "        self.speed = 0  \n",
    "\n",
    "    def __str__(self):\n",
    "        return f\"This {self.colour} {self.make} {self.model} car has {self.kilometerage} kilometers.\"\n",
    "\n",
    "    def speed(self, units):\n",
    "        return f\"Current speed: {self.speed} {units}.\"\n",
    "\n",
    "class Toyota(Car):\n",
    "    def __init__(self, model, year, colour, kilometerage):\n",
    "            super().__init__('Toyota', model, year, colour, kilometerage)\n",
    "\n",
    "class Haval(Car):\n",
    "    \"\"\"\n",
    "    A child class representing a Haval car.\n",
    "    Inherits from Car and overrides the speed() method.\n",
    "    \"\"\"\n",
    "    def __init__(self, model, year, colour, kilometerage):\n",
    "        super().__init__('Haval', model, year, colour, kilometerage)\n",
    "\n",
    "    def speed(self, description='fast'):\n",
    "        \"\"\"\n",
    "        Overrides the parent's speed method with a default value for the argument\n",
    "        \"\"\"\n",
    "        if description == 'fast':\n",
    "            return f\"This {self.make} {self.model} is going really fast!\"\n",
    "        else:\n",
    "            # If a different description is provided, we can call the parent method\n",
    "            # to get a standard speed reading.ß \n",
    "            return super().speed(description)\n",
    "# variable_name = ClassName(argument1=\"value1\", argument2=\"value2\", ...)\n",
    "my_new_haval = Haval(model=\"Jolion HEV\", year=2024, colour=\"white\", kilometerage=500)\n",
    "# This is the correct way to print the object\n",
    "print(my_new_haval)"
   ]
  },
  {
   "cell_type": "code",
   "execution_count": null,
   "id": "5a51e9f1-7d39-4c30-a235-318973c4dd4f",
   "metadata": {},
   "outputs": [],
   "source": []
  }
 ],
 "metadata": {
  "kernelspec": {
   "display_name": "Python 3 (ipykernel)",
   "language": "python",
   "name": "python3"
  },
  "language_info": {
   "codemirror_mode": {
    "name": "ipython",
    "version": 3
   },
   "file_extension": ".py",
   "mimetype": "text/x-python",
   "name": "python",
   "nbconvert_exporter": "python",
   "pygments_lexer": "ipython3",
   "version": "3.12.7"
  }
 },
 "nbformat": 4,
 "nbformat_minor": 5
}
