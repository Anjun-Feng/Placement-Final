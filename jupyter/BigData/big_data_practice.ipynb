{
 "cells": [
  {
   "cell_type": "markdown",
   "id": "917b29b6",
   "metadata": {},
   "source": [
    "# Random Sampling\n",
    "\n",
    "Let's start by creating a data set with 1M rows and 4 cols.\n",
    "\n",
    "It's important to keep in mind: the reason why this \"randmising\" process will always work is that random generators in Python are `pseudo-random`. They use a random seed, so numbers generated with the seed are always **deterministic**, making them **reproducible**.\n",
    "\n",
    "In this dataset, we are exploring a Biological Measurement of Blood Pressure against 1M European Rabbits. Each rabbit has the following attributes:\n",
    "- `feature1`: normally distributed blood pressure\n",
    "- `feature2`: uniformly distributed blood pressure\n",
    "- `group`: can be 0-5, used for `stratified sampling`\n",
    "- `cluster`: can be 0-99, used for cluster sampling"
   ]
  },
  {
   "cell_type": "code",
   "execution_count": 19,
   "id": "bcd7a3b2",
   "metadata": {},
   "outputs": [],
   "source": [
    "# # Use the following code to compare with the original dataset\n",
    "# plt.figure(figsize=(12, 6))\n",
    "# sns.kdeplot(population_df['feature1'], label='Original Population', color='blue', fill=True)\n",
    "# sns.kdeplot(simple_random_sample['feature1'], label='Simple Random Sample', color='red', fill=True) # Replace this line with the actual sampling\n",
    "# plt.title('Distribution Comparison: Simple Random Sampling')\n",
    "# plt.legend()\n",
    "# plt.show()"
   ]
  },
  {
   "cell_type": "code",
   "execution_count": 27,
   "id": "63ffe17b-b06d-4c37-8131-38ac31914250",
   "metadata": {
    "scrolled": true
   },
   "outputs": [
    {
     "name": "stdout",
     "output_type": "stream",
     "text": [
      "Total population size (N): 1000000\n"
     ]
    },
    {
     "data": {
      "text/html": [
       "<div>\n",
       "<style scoped>\n",
       "    .dataframe tbody tr th:only-of-type {\n",
       "        vertical-align: middle;\n",
       "    }\n",
       "\n",
       "    .dataframe tbody tr th {\n",
       "        vertical-align: top;\n",
       "    }\n",
       "\n",
       "    .dataframe thead th {\n",
       "        text-align: right;\n",
       "    }\n",
       "</style>\n",
       "<table border=\"1\" class=\"dataframe\">\n",
       "  <thead>\n",
       "    <tr style=\"text-align: right;\">\n",
       "      <th></th>\n",
       "      <th>feature1</th>\n",
       "      <th>feature2</th>\n",
       "      <th>group</th>\n",
       "      <th>cluster</th>\n",
       "    </tr>\n",
       "  </thead>\n",
       "  <tbody>\n",
       "    <tr>\n",
       "      <th>0</th>\n",
       "      <td>49.671415</td>\n",
       "      <td>-28.853375</td>\n",
       "      <td>1</td>\n",
       "      <td>61</td>\n",
       "    </tr>\n",
       "    <tr>\n",
       "      <th>1</th>\n",
       "      <td>-13.826430</td>\n",
       "      <td>40.172608</td>\n",
       "      <td>0</td>\n",
       "      <td>72</td>\n",
       "    </tr>\n",
       "    <tr>\n",
       "      <th>2</th>\n",
       "      <td>64.768854</td>\n",
       "      <td>6.039432</td>\n",
       "      <td>2</td>\n",
       "      <td>86</td>\n",
       "    </tr>\n",
       "    <tr>\n",
       "      <th>3</th>\n",
       "      <td>152.302986</td>\n",
       "      <td>34.911821</td>\n",
       "      <td>1</td>\n",
       "      <td>50</td>\n",
       "    </tr>\n",
       "    <tr>\n",
       "      <th>4</th>\n",
       "      <td>-23.415337</td>\n",
       "      <td>21.556194</td>\n",
       "      <td>2</td>\n",
       "      <td>88</td>\n",
       "    </tr>\n",
       "  </tbody>\n",
       "</table>\n",
       "</div>"
      ],
      "text/plain": [
       "     feature1   feature2  group  cluster\n",
       "0   49.671415 -28.853375      1       61\n",
       "1  -13.826430  40.172608      0       72\n",
       "2   64.768854   6.039432      2       86\n",
       "3  152.302986  34.911821      1       50\n",
       "4  -23.415337  21.556194      2       88"
      ]
     },
     "execution_count": 27,
     "metadata": {},
     "output_type": "execute_result"
    }
   ],
   "source": [
    "import pandas as pd\n",
    "import numpy as np\n",
    "import random\n",
    "import matplotlib.pyplot as plt\n",
    "import seaborn as sns   \n",
    "\n",
    "# Set a seed for reproducibility\n",
    "np.random.seed(42)\n",
    "random.seed(42)\n",
    "\n",
    "# Generate a large dataset of 1 million entries\n",
    "n_records = 1_000_000\n",
    "n_groups = 5 # for stratification\n",
    "n_clusters = 100 # for clustering\n",
    "\n",
    "data = {\n",
    "    'feature1': np.random.randn(n_records) * 100, # Normally distributed data\n",
    "    'feature2': np.random.uniform(-50, 50, n_records), # Uniformly distributed data\n",
    "    'group': np.random.randint(0, n_groups, n_records), # Groups for stratified sampling\n",
    "    'cluster': np.random.randint(0, n_clusters, n_records) # Clusters for cluster sampling\n",
    "}\n",
    "\n",
    "# Create the DataFrame\n",
    "population_df = pd.DataFrame(data)\n",
    "\n",
    "print(f\"Total population size (N): {len(population_df)}\")\n",
    "population_df.head()"
   ]
  },
  {
   "cell_type": "markdown",
   "id": "f3635bcd-6c80-432d-9f47-88c6e90ab74b",
   "metadata": {},
   "source": [
    "## Simple Random Sampling\n",
    "\n",
    "There are many approaches. For example, Pandas has a function `DataFrame.sample()` to perform SRS.\n",
    "\n",
    "However, I want you to start by doing SRS without using external libarary functions (accessing the original `DataFrame` is OK).\n",
    "\n",
    "**Hint:** The logic is to repeatedly generate a random number (an index) and add it to a `collection`. We use a `set` as our collection because sets automatically enforce uniqueness - You can't add a duplicate element. This is much more efficient than adding to a list and then checking if the number is already in the list. We keep doing this until the set has reached the desired sample size.\n"
   ]
  },
  {
   "cell_type": "code",
   "execution_count": 28,
   "id": "ada764e5",
   "metadata": {},
   "outputs": [],
   "source": [
    "import random\n",
    "\n",
    "# Define desired sample size (from your previous code)\n",
    "sample_size_n = 5000\n",
    "\n",
    "# 1. Get the total number of rows (the upper bound for our random numbers)\n",
    "n_population = len(population_df)\n",
    "\n",
    "# 2. Use a set to store the unique indices we pick\n",
    "# Sets are efficient for checking if an item already exists.\n",
    "sample_indices = set()\n",
    "\n",
    "# TODO: Perform SRS"
   ]
  },
  {
   "cell_type": "markdown",
   "id": "03112fe1",
   "metadata": {},
   "source": [
    "Let's also take a look at simple random sampling with `df.sample()`\n",
    "Once you've done the task above:\n",
    "- create a data set of 5000 rows\n",
    "- research how to use Pandas's `sample()` to perform SRS\n",
    "- it should take 1-3 lines code to do SRS. Print out the first 5 rows!"
   ]
  },
  {
   "cell_type": "code",
   "execution_count": 18,
   "id": "009198ba-00e2-4104-8f98-d8c71744e8df",
   "metadata": {},
   "outputs": [],
   "source": [
    "# TODO: Use Pandas to perform SRS "
   ]
  },
  {
   "cell_type": "markdown",
   "id": "e8ebcb84",
   "metadata": {},
   "source": [
    "## Stratified vs Clustered\n",
    "\n",
    "Before we start, I want you to do some research, and answer in this block:\n",
    "1. What's the similarity and difference between Stratified Sampling and Clustered Sampling?\n",
    "2. What's the typical sampling process for each? You might want to use a real-world analogy to explain.\n",
    "3. What kind of data does each sampling method take from the original data set?\n",
    "4. When to use? You might want to provide some use cases with distinct features.\n",
    "\n",
    "1:\n",
    "\n",
    "2:\n",
    "\n",
    "3:\n",
    "\n",
    "4:"
   ]
  },
  {
   "cell_type": "markdown",
   "id": "1eba7cbb-e0ff-4609-b93a-2b9dffa1b21c",
   "metadata": {},
   "source": [
    "## Stratified Sampling\n",
    "\n",
    "The main goal is to create a smaller sample from a large population in a way that the proportions of the subgroups (strata) in the sample are the same as in the original population.\n",
    "\n",
    "Again, there are many approaches, but I would recommend:\n",
    "1. The overall proportion of the total population that our desired sample represents\n",
    "2. Initialize an empty list. After we take a sample from each individual group\n",
    "3. Store the resulting small DataFrame in this list\n",
    "4. Use a loop, and use `population_df['group'].unique()` to get an array of the unique group identifiers (e.g., [0, 1, 2, 3, 4] in our example data). The loop should execute once for each of these unique groups.\n",
    "5. Use `.sample(frac=fraction_to_sample)` to perform the sampling step to isolate stratum. The size of the sample is determined by the `fraction_to_sample` (e.6., 0.5%) So, if group '3' has 200,000 members, this will sample 0.005 * 200,000 = 1000 members.\n",
    "7. Combine all these DataFrames into one. Store the sampling results in the `stratified_sample`\n",
    "8. Use the print statements I provided to check\n",
    "\n",
    "Some of the steps are done for your convenience :)\n",
    "Use the print statements to check the proportion of each stratum.\n",
    "They should be very close to 0.2000. "
   ]
  },
  {
   "cell_type": "code",
   "execution_count": null,
   "id": "c9830eff-be16-48a5-96be-99e70b4635bb",
   "metadata": {},
   "outputs": [
    {
     "name": "stdout",
     "output_type": "stream",
     "text": [
      "Stratified sample size: 0\n",
      "\n",
      "Proportions in Original Population:\n",
      "group\n",
      "1    0.200486\n",
      "2    0.200170\n",
      "4    0.200035\n",
      "0    0.199807\n",
      "3    0.199502\n",
      "Name: proportion, dtype: float64\n",
      "\n",
      "Proportions in Stratified Sample:\n"
     ]
    },
    {
     "ename": "TypeError",
     "evalue": "list indices must be integers or slices, not str",
     "output_type": "error",
     "traceback": [
      "\u001b[1;31m---------------------------------------------------------------------------\u001b[0m",
      "\u001b[1;31mTypeError\u001b[0m                                 Traceback (most recent call last)",
      "Cell \u001b[1;32mIn[30], line 25\u001b[0m\n\u001b[0;32m     22\u001b[0m \u001b[38;5;28mprint\u001b[39m(population_df[\u001b[38;5;124m'\u001b[39m\u001b[38;5;124mgroup\u001b[39m\u001b[38;5;124m'\u001b[39m]\u001b[38;5;241m.\u001b[39mvalue_counts(normalize\u001b[38;5;241m=\u001b[39m\u001b[38;5;28;01mTrue\u001b[39;00m))\n\u001b[0;32m     24\u001b[0m \u001b[38;5;28mprint\u001b[39m(\u001b[38;5;124m\"\u001b[39m\u001b[38;5;130;01m\\n\u001b[39;00m\u001b[38;5;124mProportions in Stratified Sample:\u001b[39m\u001b[38;5;124m\"\u001b[39m)\n\u001b[1;32m---> 25\u001b[0m \u001b[38;5;28mprint\u001b[39m(stratified_sample[\u001b[38;5;124m'\u001b[39m\u001b[38;5;124mgroup\u001b[39m\u001b[38;5;124m'\u001b[39m]\u001b[38;5;241m.\u001b[39mvalue_counts(normalize\u001b[38;5;241m=\u001b[39m\u001b[38;5;28;01mTrue\u001b[39;00m))\n",
      "\u001b[1;31mTypeError\u001b[0m: list indices must be integers or slices, not str"
     ]
    }
   ],
   "source": [
    "# Calculate the fraction of the total population we want to sample from each group\n",
    "fraction_to_sample = sample_size_n / len(population_df)\n",
    "\n",
    "# Create an empty list to store the samples from each group\n",
    "sampled_groups_list = []\n",
    "\n",
    "# -------------------------------------------------------- #\n",
    "\n",
    "\n",
    "# TODO: Perform Stratified Sampling (in a for loop)\n",
    "\n",
    "# -------------------------------------------------------- #\n",
    "\n",
    "# Combine the list of sampled dataframes into a single dataframe\n",
    "stratified_sample = [[pd.concat(sampled_groups_list)]]\n",
    "\n",
    "# Display the results\n",
    "print(f\"Stratified sample size: {len(stratified_sample)}\")\n",
    "\n",
    "# Compare group proportions\n",
    "print(\"\\nProportions in Original Population:\")\n",
    "print(population_df['group'].value_counts(normalize=True))\n",
    "\n",
    "print(\"\\nProportions in Stratified Sample:\")\n",
    "print(stratified_sample['group'].value_counts(normalize=True))"
   ]
  },
  {
   "cell_type": "markdown",
   "id": "37a75b00-c852-4391-b0b0-6a05019c544b",
   "metadata": {},
   "source": [
    "## Clustered Sampling\n",
    "\n",
    "The core idea is to treat the entire population as a collection of groups (clusters), randomly select a few of those complete groups, and include every member of the selected groups in the final sample.\n",
    "\n",
    "Let's use 5 clusters.\n",
    "\n",
    "**What's the difference between cluster and stratified sampling?**\n",
    "This is a fundamental concept in statistics. While both methods involve dividing the population into groups, their goals and procedures are nearly opposite. The easiest way to remember the difference is with a simple motto:\n",
    "- Stratified Sampling: \"Some from All\"\n",
    "- Cluster Sampling: \"All from Some\""
   ]
  },
  {
   "cell_type": "code",
   "execution_count": 21,
   "id": "12642de8",
   "metadata": {},
   "outputs": [],
   "source": [
    "# Define how many clusters we want to sample\n",
    "num_clusters_to_sample = 5\n",
    "\n",
    "# TODO: Perform Cluster Sampling"
   ]
  },
  {
   "cell_type": "markdown",
   "id": "eff8a448-1953-4a70-9367-bb57434a0ed5",
   "metadata": {},
   "source": [
    "## Systematic Sampling\n",
    "\n",
    "Systematic Sampling, a statistical method where elements are selected from an ordered population at a regular, fixed interval.\n",
    "\n",
    "It's like picking every 200th person from a phone book, but you randomly choose which person to start with from the first 200 names.\n",
    "\n",
    "What it does: This block sets up the necessary parameters.\n",
    "- `N:` The total size of the population (1,000,000 in your example).\n",
    "- `n:` The size of the sample you want (5,000 in your example).\n",
    "- `k:` This calculates the sampling interval. It uses integer division (//) to determine how many records to \"skip\" between selections.\n",
    "\n",
    "In your case: k = 1,000,000 // 5,000, which equals 200. This means the plan is to **select one record out of every 200**."
   ]
  },
  {
   "cell_type": "code",
   "execution_count": 22,
   "id": "9b9572f0-19ae-49a5-bdbb-21201f2c7b48",
   "metadata": {},
   "outputs": [],
   "source": [
    "# Define total population size (N) and desired sample size (n)\n",
    "N = len(population_df)\n",
    "n = sample_size_n\n",
    "\n",
    "# Calculate the interval (k)\n",
    "k = N // n\n",
    "\n",
    "# TODO: Perform Systematic Sampling"
   ]
  },
  {
   "cell_type": "markdown",
   "id": "1c7c19bf",
   "metadata": {},
   "source": [
    "## Reflection\n",
    "\n",
    "- Which visualisation of sampling methods suggests the best fit in this scenario? Can you explain why?"
   ]
  }
 ],
 "metadata": {
  "kernelspec": {
   "display_name": "base",
   "language": "python",
   "name": "python3"
  },
  "language_info": {
   "codemirror_mode": {
    "name": "ipython",
    "version": 3
   },
   "file_extension": ".py",
   "mimetype": "text/x-python",
   "name": "python",
   "nbconvert_exporter": "python",
   "pygments_lexer": "ipython3",
   "version": "3.12.7"
  }
 },
 "nbformat": 4,
 "nbformat_minor": 5
}
