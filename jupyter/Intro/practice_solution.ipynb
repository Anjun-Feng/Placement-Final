{
 "cells": [
  {
   "cell_type": "markdown",
   "metadata": {},
   "source": [
    "### Step 1: Import Necessary Libraries\n",
    "Import:\n",
    "- `pandas` is for loading and working with tabular data (like our CSV).\n",
    "- `numpy` is for efficient numerical operations.\n",
    "- `matplotlib.pyplot` is for creating plots and visualizations."
   ]
  },
  {
   "cell_type": "code",
   "execution_count": 1,
   "metadata": {},
   "outputs": [],
   "source": [
    "import pandas as pd\n",
    "import numpy as np\n",
    "import matplotlib.pyplot as plt"
   ]
  },
  {
   "cell_type": "markdown",
   "metadata": {},
   "source": [
    "### Step 2: Load the Data\n",
    "\n",
    "[Download](https://gist.github.com/netj/8836201) the CSV file, and manually import it (Recommneded for practice purpose)\n",
    "\n",
    "We need to get our data from the `iris.csv` file into a structure that we can work with in Python. The Pandas `DataFrame` is the standard for this. We use `pd.read_csv()` to do this."
   ]
  },
  {
   "cell_type": "code",
   "execution_count": 2,
   "metadata": {},
   "outputs": [],
   "source": [
    "# Load the dataset from the CSV file\n",
    "file_path = 'iris.csv'\n",
    "iris_df = pd.read_csv(file_path)"
   ]
  },
  {
   "cell_type": "markdown",
   "metadata": {},
   "source": [
    "### Step 3: Initial Data Exploration\n",
    "\n",
    "Before diving into analysis, it's important to get a feel for your data. What do the columns look like? Are there any missing values? What are the data types? Pandas provides simple functions for this initial inspection.\n",
    "\n",
    "Use the following functions to display basic features of the Iris dataset\n",
    "- `.head()` shows us the first few rows of the data.\n",
    "- `.info()` gives a concise summary of the DataFrame, including data types and non-null values.\n",
    "- `.describe()` provides descriptive statistics for the numerical columns (like mean, std, min, max)."
   ]
  },
  {
   "cell_type": "code",
   "execution_count": 3,
   "metadata": {},
   "outputs": [
    {
     "name": "stdout",
     "output_type": "stream",
     "text": [
      "--- First 5 Rows ---\n"
     ]
    },
    {
     "data": {
      "text/html": [
       "<div>\n",
       "<style scoped>\n",
       "    .dataframe tbody tr th:only-of-type {\n",
       "        vertical-align: middle;\n",
       "    }\n",
       "\n",
       "    .dataframe tbody tr th {\n",
       "        vertical-align: top;\n",
       "    }\n",
       "\n",
       "    .dataframe thead th {\n",
       "        text-align: right;\n",
       "    }\n",
       "</style>\n",
       "<table border=\"1\" class=\"dataframe\">\n",
       "  <thead>\n",
       "    <tr style=\"text-align: right;\">\n",
       "      <th></th>\n",
       "      <th>sepal.length</th>\n",
       "      <th>sepal.width</th>\n",
       "      <th>petal.length</th>\n",
       "      <th>petal.width</th>\n",
       "      <th>variety</th>\n",
       "    </tr>\n",
       "  </thead>\n",
       "  <tbody>\n",
       "    <tr>\n",
       "      <th>0</th>\n",
       "      <td>5.1</td>\n",
       "      <td>3.5</td>\n",
       "      <td>1.4</td>\n",
       "      <td>0.2</td>\n",
       "      <td>Setosa</td>\n",
       "    </tr>\n",
       "    <tr>\n",
       "      <th>1</th>\n",
       "      <td>4.9</td>\n",
       "      <td>3.0</td>\n",
       "      <td>1.4</td>\n",
       "      <td>0.2</td>\n",
       "      <td>Setosa</td>\n",
       "    </tr>\n",
       "    <tr>\n",
       "      <th>2</th>\n",
       "      <td>4.7</td>\n",
       "      <td>3.2</td>\n",
       "      <td>1.3</td>\n",
       "      <td>0.2</td>\n",
       "      <td>Setosa</td>\n",
       "    </tr>\n",
       "    <tr>\n",
       "      <th>3</th>\n",
       "      <td>4.6</td>\n",
       "      <td>3.1</td>\n",
       "      <td>1.5</td>\n",
       "      <td>0.2</td>\n",
       "      <td>Setosa</td>\n",
       "    </tr>\n",
       "    <tr>\n",
       "      <th>4</th>\n",
       "      <td>5.0</td>\n",
       "      <td>3.6</td>\n",
       "      <td>1.4</td>\n",
       "      <td>0.2</td>\n",
       "      <td>Setosa</td>\n",
       "    </tr>\n",
       "  </tbody>\n",
       "</table>\n",
       "</div>"
      ],
      "text/plain": [
       "   sepal.length  sepal.width  petal.length  petal.width variety\n",
       "0           5.1          3.5           1.4          0.2  Setosa\n",
       "1           4.9          3.0           1.4          0.2  Setosa\n",
       "2           4.7          3.2           1.3          0.2  Setosa\n",
       "3           4.6          3.1           1.5          0.2  Setosa\n",
       "4           5.0          3.6           1.4          0.2  Setosa"
      ]
     },
     "metadata": {},
     "output_type": "display_data"
    },
    {
     "name": "stdout",
     "output_type": "stream",
     "text": [
      "\n",
      "--- DataFrame Info ---\n",
      "<class 'pandas.core.frame.DataFrame'>\n",
      "RangeIndex: 150 entries, 0 to 149\n",
      "Data columns (total 5 columns):\n",
      " #   Column        Non-Null Count  Dtype  \n",
      "---  ------        --------------  -----  \n",
      " 0   sepal.length  150 non-null    float64\n",
      " 1   sepal.width   150 non-null    float64\n",
      " 2   petal.length  150 non-null    float64\n",
      " 3   petal.width   150 non-null    float64\n",
      " 4   variety       150 non-null    object \n",
      "dtypes: float64(4), object(1)\n",
      "memory usage: 6.0+ KB\n"
     ]
    }
   ],
   "source": [
    "# Display the first 5 rows of the dataframe\n",
    "print(\"--- First 5 Rows ---\")\n",
    "display(iris_df.head())\n",
    "\n",
    "# Get a summary of the dataframe\n",
    "print(\"\\n--- DataFrame Info ---\")\n",
    "iris_df.info()"
   ]
  },
  {
   "cell_type": "markdown",
   "metadata": {},
   "source": [
    "### Step 4: Process Data with NumPy and Pandas\n",
    "\n",
    "This is where we see how Pandas and NumPy work together. Let's create a new feature to see if the ratio of petal length to width is a distinguishing characteristic. \n",
    "\n",
    "Pandas `DataFrame` columns can be treated like NumPy arrays, allowing us to perform fast, vectorized operations on them. We will calculate `petal.length / petal.width` and store it in a new column called `petal_ratio`.\n",
    "\n",
    "**HINT:** You will need to select the columns with Pandas, then use `.to_numpy()` and divide the columns in the new column `petal_ratio`\n",
    "\n",
    "Once you are done, display the first 5 rows"
   ]
  },
  {
   "cell_type": "code",
   "execution_count": 5,
   "metadata": {},
   "outputs": [
    {
     "name": "stdout",
     "output_type": "stream",
     "text": [
      "--- DataFrame with New 'petal_ratio' Column ---\n"
     ]
    },
    {
     "data": {
      "text/html": [
       "<div>\n",
       "<style scoped>\n",
       "    .dataframe tbody tr th:only-of-type {\n",
       "        vertical-align: middle;\n",
       "    }\n",
       "\n",
       "    .dataframe tbody tr th {\n",
       "        vertical-align: top;\n",
       "    }\n",
       "\n",
       "    .dataframe thead th {\n",
       "        text-align: right;\n",
       "    }\n",
       "</style>\n",
       "<table border=\"1\" class=\"dataframe\">\n",
       "  <thead>\n",
       "    <tr style=\"text-align: right;\">\n",
       "      <th></th>\n",
       "      <th>sepal.length</th>\n",
       "      <th>sepal.width</th>\n",
       "      <th>petal.length</th>\n",
       "      <th>petal.width</th>\n",
       "      <th>variety</th>\n",
       "      <th>petal_ratio</th>\n",
       "    </tr>\n",
       "  </thead>\n",
       "  <tbody>\n",
       "    <tr>\n",
       "      <th>0</th>\n",
       "      <td>5.1</td>\n",
       "      <td>3.5</td>\n",
       "      <td>1.4</td>\n",
       "      <td>0.2</td>\n",
       "      <td>Setosa</td>\n",
       "      <td>7.0</td>\n",
       "    </tr>\n",
       "    <tr>\n",
       "      <th>1</th>\n",
       "      <td>4.9</td>\n",
       "      <td>3.0</td>\n",
       "      <td>1.4</td>\n",
       "      <td>0.2</td>\n",
       "      <td>Setosa</td>\n",
       "      <td>7.0</td>\n",
       "    </tr>\n",
       "    <tr>\n",
       "      <th>2</th>\n",
       "      <td>4.7</td>\n",
       "      <td>3.2</td>\n",
       "      <td>1.3</td>\n",
       "      <td>0.2</td>\n",
       "      <td>Setosa</td>\n",
       "      <td>6.5</td>\n",
       "    </tr>\n",
       "    <tr>\n",
       "      <th>3</th>\n",
       "      <td>4.6</td>\n",
       "      <td>3.1</td>\n",
       "      <td>1.5</td>\n",
       "      <td>0.2</td>\n",
       "      <td>Setosa</td>\n",
       "      <td>7.5</td>\n",
       "    </tr>\n",
       "    <tr>\n",
       "      <th>4</th>\n",
       "      <td>5.0</td>\n",
       "      <td>3.6</td>\n",
       "      <td>1.4</td>\n",
       "      <td>0.2</td>\n",
       "      <td>Setosa</td>\n",
       "      <td>7.0</td>\n",
       "    </tr>\n",
       "  </tbody>\n",
       "</table>\n",
       "</div>"
      ],
      "text/plain": [
       "   sepal.length  sepal.width  petal.length  petal.width variety  petal_ratio\n",
       "0           5.1          3.5           1.4          0.2  Setosa          7.0\n",
       "1           4.9          3.0           1.4          0.2  Setosa          7.0\n",
       "2           4.7          3.2           1.3          0.2  Setosa          6.5\n",
       "3           4.6          3.1           1.5          0.2  Setosa          7.5\n",
       "4           5.0          3.6           1.4          0.2  Setosa          7.0"
      ]
     },
     "metadata": {},
     "output_type": "display_data"
    }
   ],
   "source": [
    "# Use NumPy's vectorized operations on Pandas columns\n",
    "# We access the columns and divide them. The result is a new Pandas Series.\n",
    "petal_length = iris_df['petal.length'].to_numpy()\n",
    "petal_width = iris_df['petal.width'].to_numpy()\n",
    "\n",
    "# Add the new calculated ratio as a new column in our DataFrame\n",
    "iris_df['petal_ratio'] = petal_length / petal_width\n",
    "\n",
    "print(\"--- DataFrame with New 'petal_ratio' Column ---\")\n",
    "display(iris_df.head())"
   ]
  },
  {
   "cell_type": "markdown",
   "metadata": {},
   "source": [
    "### Step 5: Visualisation\n",
    "\n",
    "\n",
    "#### 5.1 Histogram\n",
    "Let's start with a histogram. It reveals the distribution of a single variable. It groups numbers into ranges (bins) and the height of the bar shows how many data points fall into that range.\n",
    "\n",
    "* By overlaying the histograms for petal.length for all three species, we can answer questions like:\n",
    "* Does this feature follow a normal (bell-curve) distribution?\n",
    "* How much do the petal lengths overlap between species?\n",
    "* Are there clear cut-off points in petal length that could help us classify the flowers?"
   ]
  },
  {
   "cell_type": "code",
   "execution_count": null,
   "metadata": {},
   "outputs": [
    {
     "data": {
      "image/png": "[encoded data removed]",
      "text/plain": [
       "<Figure size 1000x700 with 1 Axes>"
      ]
     },
     "metadata": {},
     "output_type": "display_data"
    }
   ],
   "source": [
    "import matplotlib.pyplot as plt\n",
    "\n",
    "plt.style.use('seaborn-v0_8-whitegrid')\n",
    "fig, ax = plt.subplots(figsize=(10, 7))\n",
    "\n",
    "colors = {'Setosa': 'red', 'Versicolor': 'green', 'Virginica': 'blue'}\n",
    "feature = 'petal.length'\n",
    "\n",
    "# We can plot a histogram for each species on the same axes to compare them.\n",
    "# The 'alpha' parameter makes the bars semi-transparent so we can see overlaps.\n",
    "for variety in iris_df['variety'].unique():\n",
    "    # Filter the DataFrame for the current variety\n",
    "    subset = iris_df[iris_df['variety'] == variety]\n",
    "    \n",
    "    # Plot the histogram for the chosen feature\n",
    "    ax.hist(subset[feature], bins=10, alpha=0.6, label=variety, color=colors[variety])\n",
    "\n",
    "ax.set_title(f'Histogram of {feature.replace(\".\", \" \").title()} for Iris Varieties', fontsize=16)\n",
    "ax.set_xlabel(f'{feature.replace(\".\", \" \").title()} (cm)', fontsize=12)\n",
    "ax.set_ylabel('Frequency', fontsize=12)\n",
    "\n",
    "# Add a legend\n",
    "ax.legend(title='Variety', fontsize=10)\n",
    "\n",
    "plt.show()\n"
   ]
  },
  {
   "cell_type": "markdown",
   "metadata": {},
   "source": [
    "#### 5.2 Scatter Plot\n",
    "A scatter plot is an excellent way to see the relationship between two numerical variables. We will plot `sepal.length` vs. `sepal.width`.\n",
    "\n",
    "To make the plot even more insightful, we will color-code each point based on its `variety`. This will help us see if the different species of Iris have distinct sepal characteristics and if they form visible clusters."
   ]
  },
  {
   "cell_type": "code",
   "execution_count": 1,
   "metadata": {},
   "outputs": [
    {
     "ename": "NameError",
     "evalue": "name 'plt' is not defined",
     "output_type": "error",
     "traceback": [
      "\u001b[1;31m---------------------------------------------------------------------------\u001b[0m",
      "\u001b[1;31mNameError\u001b[0m                                 Traceback (most recent call last)",
      "Cell \u001b[1;32mIn[1], line 2\u001b[0m\n\u001b[0;32m      1\u001b[0m \u001b[38;5;66;03m# Set up the plot\u001b[39;00m\n\u001b[1;32m----> 2\u001b[0m plt\u001b[38;5;241m.\u001b[39mstyle\u001b[38;5;241m.\u001b[39muse(\u001b[38;5;124m'\u001b[39m\u001b[38;5;124mseaborn-v0_8-whitegrid\u001b[39m\u001b[38;5;124m'\u001b[39m) \n\u001b[0;32m      3\u001b[0m fig, ax \u001b[38;5;241m=\u001b[39m plt\u001b[38;5;241m.\u001b[39msubplots(figsize\u001b[38;5;241m=\u001b[39m(\u001b[38;5;241m10\u001b[39m, \u001b[38;5;241m7\u001b[39m))\n\u001b[0;32m      5\u001b[0m \u001b[38;5;66;03m# Define colors for each variety for a clear visual distinction\u001b[39;00m\n",
      "\u001b[1;31mNameError\u001b[0m: name 'plt' is not defined"
     ]
    }
   ],
   "source": [
    "# Set up the plot\n",
    "plt.style.use('seaborn-v0_8-whitegrid') \n",
    "fig, ax = plt.subplots(figsize=(10, 7))\n",
    "\n",
    "# Define colors for each variety for a clear visual distinction\n",
    "colors = {'Setosa': 'red', 'Versicolor': 'green', 'Virginica': 'blue'}\n",
    "\n",
    "# We group the dataframe by 'variety' and plot each group with its specific color\n",
    "for variety, group in iris_df.groupby('variety'):\n",
    "    ax.scatter(group['sepal.length'], group['sepal.width'], \n",
    "               c=colors[variety], label=variety, \n",
    "               alpha=0.8, edgecolors='k', s=80)\n",
    "\n",
    "ax.set_title('Sepal Length vs. Sepal Width for Iris Varieties', fontsize=16)\n",
    "ax.set_xlabel('Sepal Length (cm)', fontsize=12)\n",
    "ax.set_ylabel('Sepal Width (cm)', fontsize=12)\n",
    "\n",
    "ax.legend(title='Variety', fontsize=10)\n",
    "\n",
    "plt.show()"
   ]
  },
  {
   "cell_type": "markdown",
   "metadata": {},
   "source": [
    "### Analysis of the Visualization\n",
    "\n",
    "From the scatter plot, we can immediately draw some conclusions:\n",
    "\n",
    "1.  **Setosa (Red):** This species forms a very distinct cluster. It generally has a smaller sepal length but a larger sepal width compared to the other two.\n",
    "2.  **Versicolor (Green) and Virginica (Blue):** These two species are more similar to each other than to Setosa. However, we can still see a pattern: Virginica generally has a larger sepal length than Versicolor.\n",
    "\n",
    "This simple visualization clearly shows that sepal dimensions are a useful feature for distinguishing between the different Iris varieties, especially for identifying Setosa."
   ]
  }
 ],
 "metadata": {
  "kernelspec": {
   "display_name": "base",
   "language": "python",
   "name": "python3"
  },
  "language_info": {
   "codemirror_mode": {
    "name": "ipython",
    "version": 3
   },
   "file_extension": ".py",
   "mimetype": "text/x-python",
   "name": "python",
   "nbconvert_exporter": "python",
   "pygments_lexer": "ipython3",
   "version": "3.12.7"
  }
 },
 "nbformat": 4,
 "nbformat_minor": 4
}
