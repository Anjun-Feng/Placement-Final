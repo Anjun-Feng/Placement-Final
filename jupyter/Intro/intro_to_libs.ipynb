{
 "cells": [
  {
   "cell_type": "markdown",
   "metadata": {},
   "source": [
    "## Why Not Plain Python?\n",
    "Standard Python lists and dictionaries are great for general-purpose programming, but they have two major limitations for data science:\n",
    "* Performance: Python is an interpreted language. Performing mathematical operations on large lists using for loops is incredibly slow.\n",
    "* Functionality: Handling tabular data, managing missing values, and performing complex statistical operations are cumbersome with basic Python data structures.\n",
    "\n",
    "`NumPy` and `Pandas` solve these problems.\n",
    "\n",
    "`NumPy` (Numerical Python): The foundation of the scientific Python ecosystem. It's written in `C/C++` to ensure performance in data manipulation.\n",
    "`Pandas`: Built on top of `NumPy`, it provides powerful data structures (like the `DataFrame`) designed to make working with \"relational\" or \"labeled\" data easy and intuitive."
   ]
  },
  {
   "cell_type": "markdown",
   "metadata": {},
   "source": [
    "## Part 1: NumPy\n",
    "The core of NumPy is the n-dimensional array, or ndarray. It's a grid of values, all of the same data type, which is the key to its incredible performance.\n",
    "\n",
    "Imagine you have a list of a million numbers and you want to add 5 to each one.\n",
    "\n",
    "In plain Python, you'd use a loop:"
   ]
  },
  {
   "cell_type": "code",
   "execution_count": 1,
   "metadata": {},
   "outputs": [],
   "source": [
    "# The slow way with a Python list\n",
    "my_list = list(range(1000000))\n",
    "for i in range(len(my_list)):\n",
    "    my_list[i] += 5"
   ]
  },
  {
   "cell_type": "markdown",
   "metadata": {},
   "source": [
    "This is slow because Python must check the type of each element and perform the operation one by one.\n",
    "\n",
    "With NumPy, you perform a \"vectorized\" operation:"
   ]
  },
  {
   "cell_type": "code",
   "execution_count": 3,
   "metadata": {},
   "outputs": [],
   "source": [
    "import numpy as np\n",
    "\n",
    "# The fast, vectorized way with a NumPy array\n",
    "my_array = np.arange(1000000)\n",
    "my_array = my_array + 5 # Add 5 to every element at once"
   ]
  },
  {
   "cell_type": "markdown",
   "metadata": {},
   "source": [
    "This is orders of magnitude faster because the operation my_array + 5 is executed in pre-compiled C code, completely bypassing the Python interpreter's loop overhead. This concept of replacing loops with array expressions is called vectorization, and it is the cornerstone of NumPy."
   ]
  },
  {
   "cell_type": "markdown",
   "metadata": {},
   "source": [
    "### 1. Creating Arrays\n",
    "You can create arrays from Python lists or use built-in NumPy functions.\n",
    "\n",
    "As you can see this is very similar to what we do with vanilla Python"
   ]
  },
  {
   "cell_type": "code",
   "execution_count": 8,
   "metadata": {},
   "outputs": [
    {
     "name": "stdout",
     "output_type": "stream",
     "text": [
      "1D Array: [1 2 3 4 5]\n",
      "2D Array:\n",
      "[[1 2 3]\n",
      " [4 5 6]]\n",
      "Zeros:\n",
      "[[0. 0. 0.]\n",
      " [0. 0. 0.]]\n",
      "Range Array: [0 2 4 6 8]\n"
     ]
    }
   ],
   "source": [
    "import numpy as np\n",
    "\n",
    "# From a Python list\n",
    "a = np.array([1, 2, 3, 4, 5])\n",
    "print(f\"1D Array: {a}\")\n",
    "\n",
    "# A 2D array (a matrix)\n",
    "b = np.array([[1, 2, 3], [4, 5, 6]])\n",
    "print(f\"2D Array:\\n{b}\")\n",
    "\n",
    "# Create an array of zeros\n",
    "c = np.zeros((2, 3)) # A 2x3 matrix of zeros\n",
    "print(f\"Zeros:\\n{c}\")\n",
    "\n",
    "# Create an array with a range of elements\n",
    "d = np.arange(0, 10, 2) # Start, stop (exclusive), step\n",
    "print(f\"Range Array: {d}\")"
   ]
  },
  {
   "cell_type": "markdown",
   "metadata": {},
   "source": [
    "### 2. Basic Operations & Slicing\n",
    "You can perform element-wise operations and select subsets of data just like with lists, but with more power."
   ]
  },
  {
   "cell_type": "code",
   "execution_count": 15,
   "metadata": {},
   "outputs": [
    {
     "name": "stdout",
     "output_type": "stream",
     "text": [
      "Data * 2 = \n",
      "[[10 20 30 40 50]\n",
      " [10 20 30 40 50]]\n",
      "Data - 5 = \n",
      "[[ 0  5 10 15 20]\n",
      " [ 0  5 10 15 20]]\n",
      "np.sqrt(data) = \n",
      "[[2.23606798 3.16227766 3.87298335 4.47213595 5.        ]\n",
      " [2.23606798 3.16227766 3.87298335 4.47213595 5.        ]]\n",
      "Elements from index 1 to 3: \n",
      "[[ 5 10 15 20 25]]\n",
      "Boolean mask: \n",
      "[[False False False  True  True]\n",
      " [False False False  True  True]]\n",
      "Select large values: \n",
      "[20 25 20 25]\n"
     ]
    }
   ],
   "source": [
    "data = np.array([[5, 10, 15, 20, 25], [5, 10, 15, 20, 25]])\n",
    "\n",
    "# Basic math (vectorized!)\n",
    "print(f\"Data * 2 = \\n{data * 2}\")\n",
    "print(f\"Data - 5 = \\n{data - 5}\")\n",
    "print(f\"np.sqrt(data) = \\n{np.sqrt(data)}\")\n",
    "\n",
    "# Slicing\n",
    "print(f\"Elements from index 1 to 3: \\n{data[1:4]}\")\n",
    "\n",
    "# Conditional Slicing (Very powerful, very useful)\n",
    "large_values = data > 15\n",
    "print(f\"Boolean mask: \\n{large_values}\")\n",
    "print(f\"Select large values: \\n{data[large_values]}\")"
   ]
  },
  {
   "cell_type": "markdown",
   "metadata": {},
   "source": []
  },
  {
   "cell_type": "markdown",
   "metadata": {},
   "source": [
    "## Part 2: Pandas"
   ]
  },
  {
   "cell_type": "markdown",
   "metadata": {},
   "source": [
    "While `NumPy` is great for raw numbers, real-world data has context. We have rows representing samples (e.g., a customer) and columns representing features (e.g., age, city, purchase amount). `Pandas` is designed to handle exactly this kind of tabular data.\n",
    "\n",
    "P`andas introduces two primary data structures: the Series and the DataFrame.\n",
    "\n",
    "`Series`: A one-dimensional labeled array. Think of it as a single column from a spreadsheet.\n",
    "\n",
    "`DataFrame`: A two-dimensional labeled structure with columns of potentially different types. This is your entire \"spreadsheet\".\n",
    "\n",
    "A NumPy 2D array is just a grid of numbers. A Pandas DataFrame has:\n",
    "\n",
    "* Column labels (e.g., 'Name', 'Age').\n",
    "* Row labels, called an Index, which provides a powerful way to reference data.\n",
    "* The ability to store different data types (text, numbers, dates) in different columns.\n",
    "* A massive library of functions to handle missing data, group, merge, and clean data."
   ]
  },
  {
   "cell_type": "markdown",
   "metadata": {},
   "source": [
    "### 1. Creating a DataFrame\n",
    "The most common way is from a `dictionary` or by reading a (csv) file. You can also convert `NumPy` arrays into a `DataFrame`, but that's for you to explore"
   ]
  },
  {
   "cell_type": "code",
   "execution_count": 16,
   "metadata": {},
   "outputs": [
    {
     "name": "stdout",
     "output_type": "stream",
     "text": [
      "     Country  Population      Continent\n",
      "0        USA         331  North America\n",
      "1     Canada          38  North America\n",
      "2  Australia          26        Oceania\n",
      "3      Japan         126           Asia\n"
     ]
    }
   ],
   "source": [
    "import pandas as pd\n",
    "\n",
    "# Creating a DataFrame from a dictionary\n",
    "data_dict = {\n",
    "    'Country': ['USA', 'Canada', 'Australia', 'Japan'],\n",
    "    'Population': [331, 38, 26, 126],\n",
    "    'Continent': ['North America', 'North America', 'Oceania', 'Asia']\n",
    "}\n",
    "\n",
    "df = pd.DataFrame(data_dict)\n",
    "print(df)"
   ]
  },
  {
   "cell_type": "markdown",
   "metadata": {},
   "source": [
    "### How to Inpsect Data"
   ]
  },
  {
   "cell_type": "code",
   "execution_count": 18,
   "metadata": {},
   "outputs": [
    {
     "name": "stdout",
     "output_type": "stream",
     "text": [
      "--- First 2 rows ---\n",
      "  Country  Population      Continent\n",
      "0     USA         331  North America\n",
      "1  Canada          38  North America\n",
      "\n",
      "--- Info ---\n",
      "<class 'pandas.core.frame.DataFrame'>\n",
      "RangeIndex: 4 entries, 0 to 3\n",
      "Data columns (total 3 columns):\n",
      " #   Column      Non-Null Count  Dtype \n",
      "---  ------      --------------  ----- \n",
      " 0   Country     4 non-null      object\n",
      " 1   Population  4 non-null      int64 \n",
      " 2   Continent   4 non-null      object\n",
      "dtypes: int64(1), object(2)\n",
      "memory usage: 228.0+ bytes\n",
      "\n",
      "--- Describe ---\n",
      "       Population\n",
      "count     4.00000\n",
      "mean    130.25000\n",
      "std     141.06352\n",
      "min      26.00000\n",
      "25%      35.00000\n",
      "50%      82.00000\n",
      "75%     177.25000\n",
      "max     331.00000\n"
     ]
    }
   ],
   "source": [
    "# See the first 5 rows\n",
    "print(\"--- First 2 rows ---\")\n",
    "print(df.head(2)) # By default, head() shows 5 rows to any dataframe that has more than 5 rows\n",
    "\n",
    "# Get a concise summary of the DataFrame\n",
    "print(\"\\n--- Info ---\")\n",
    "df.info()\n",
    "\n",
    "# Get descriptive statistics for numerical columns\n",
    "print(\"\\n--- Describe ---\")\n",
    "print(df.describe())"
   ]
  },
  {
   "cell_type": "markdown",
   "metadata": {},
   "source": [
    "### 3. Selecting Data"
   ]
  },
  {
   "cell_type": "code",
   "execution_count": 19,
   "metadata": {},
   "outputs": [
    {
     "name": "stdout",
     "output_type": "stream",
     "text": [
      "\n",
      "--- Country Column ---\n",
      "0          USA\n",
      "1       Canada\n",
      "2    Australia\n",
      "3        Japan\n",
      "Name: Country, dtype: object\n",
      "\n",
      "--- Subset of Columns ---\n",
      "     Country  Population\n",
      "0        USA         331\n",
      "1     Canada          38\n",
      "2  Australia          26\n",
      "3      Japan         126\n",
      "\n",
      "--- High Population Countries ---\n",
      "  Country  Population      Continent\n",
      "0     USA         331  North America\n",
      "3   Japan         126           Asia\n",
      "\n",
      "--- North American Countries ---\n",
      "  Country  Population      Continent\n",
      "0     USA         331  North America\n",
      "1  Canada          38  North America\n"
     ]
    }
   ],
   "source": [
    "# Select a single column (returns a Series)\n",
    "countries = df['Country']\n",
    "print(f\"\\n--- Country Column ---\\n{countries}\")\n",
    "\n",
    "# Select multiple columns (returns a DataFrame)\n",
    "subset = df[['Country', 'Population']]\n",
    "print(f\"\\n--- Subset of Columns ---\\n{subset}\")\n",
    "\n",
    "# --- Filtering Rows (Conditional Selection) ---\n",
    "# Select rows based on a condition\n",
    "high_population = df[df['Population'] > 100]\n",
    "print(f\"\\n--- High Population Countries ---\\n{high_population}\")\n",
    "\n",
    "# Combine conditions with & (and) and | (or)\n",
    "north_america_df = df[df['Continent'] == 'North America']\n",
    "print(f\"\\n--- North American Countries ---\\n{north_america_df}\")"
   ]
  },
  {
   "cell_type": "markdown",
   "metadata": {},
   "source": [
    "### 4. Creating New Columns\n",
    "You can easily create new columns, often derived from existing ones. This is where the power of NumPy's vectorization comes in handy within Pandas."
   ]
  },
  {
   "cell_type": "code",
   "execution_count": 22,
   "metadata": {},
   "outputs": [
    {
     "name": "stdout",
     "output_type": "stream",
     "text": [
      "     Country  Population      Continent  Population in Billions\n",
      "0        USA         331  North America                   0.331\n",
      "1     Canada          38  North America                   0.038\n",
      "2  Australia          26        Oceania                   0.026\n",
      "3      Japan         126           Asia                   0.126\n"
     ]
    }
   ],
   "source": [
    "# Create a new column 'Population in Billions'\n",
    "# All calculations are automatically vectorized!\n",
    "df['Population in Billions'] = df['Population'] / 1000\n",
    "\n",
    "print(df)"
   ]
  },
  {
   "cell_type": "markdown",
   "metadata": {},
   "source": [
    "## Conclusion: How They Work Together\n",
    "You'll use Pandas to load, clean, label, and structure your data in a DataFrame. It's your main tool for exploring and manipulating datasets.\n",
    "\n",
    "You'll use NumPy's functions and vectorized operations on the data stored within the Pandas DataFrame columns to perform fast numerical computations.\n",
    "\n",
    "A typical workflow is:\n",
    "1. Load data into a Pandas `DataFrame` using `pd.read_csv()`.\n",
    "2. Use Pandas functions like `.head()`, `.info()`, `.describe()` to explore it.\n",
    "3. Use Pandas filtering `(df[df['column'] > 5])` to select subsets of data.\n",
    "4. Apply a fast NumPy function `(np.log())` to a column to transform it.\n",
    "5. Store the result in a new column in your DataFrame."
   ]
  }
 ],
 "metadata": {
  "kernelspec": {
   "display_name": "Python 3 (ipykernel)",
   "language": "python",
   "name": "python3"
  },
  "language_info": {
   "codemirror_mode": {
    "name": "ipython",
    "version": 3
   },
   "file_extension": ".py",
   "mimetype": "text/x-python",
   "name": "python",
   "nbconvert_exporter": "python",
   "pygments_lexer": "ipython3",
   "version": "3.12.7"
  }
 },
 "nbformat": 4,
 "nbformat_minor": 4
}
