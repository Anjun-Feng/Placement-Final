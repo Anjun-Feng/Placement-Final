{
 "cells": [
  {
   "cell_type": "markdown",
   "metadata": {},
   "source": [
    "# Iris\n",
    "\n",
    "The [Iris Dataset](https://archive.ics.uci.edu/dataset/53/iris) is a small classic dataset from Fisher, 1936. One of the earliest known datasets used for evaluating classification methods.\n",
    "\n",
    "**What do the instances in this dataset represent?**\n",
    "\n",
    "Each instance is a plant\n",
    "\n",
    "**Additional Information**\n",
    "\n",
    "This is one of the earliest datasets used in the literature on classification methods and widely used in statistics and machine learning.  The data set contains 3 classes of 50 instances each, where each class refers to a type of iris plant.  One class is linearly separable from the other 2; the latter are not linearly separable from each other.\n",
    "\n",
    "Predicted attribute: class of iris plant.\n",
    "\n",
    "This is an exceedingly simple domain.\n",
    "\n",
    "This data differs from the data presented in Fishers article (identified by Steve Chadwick,  spchadwick@espeedaz.net ).  The 35th sample should be: 4.9,3.1,1.5,0.2,\"Iris-setosa\" where the error is in the fourth feature. The 38th sample: 4.9,3.6,1.4,0.1,\"Iris-setosa\" where the errors are in the second and third features.  \n",
    "\n",
    "**Has Missing Values?**\n",
    "\n",
    "No"
   ]
  },
  {
   "cell_type": "markdown",
   "metadata": {},
   "source": [
    "## Loading the Dataset\n",
    "\n",
    "There are two ways to do it:\n",
    "1. `pip install ucimlrepo`\n",
    "    ```python\n",
    "    from ucimlrepo import fetch_ucirepo \n",
    "    \n",
    "    # fetch dataset \n",
    "    iris = fetch_ucirepo(id=53) \n",
    "    \n",
    "    # data (as pandas dataframes) \n",
    "    X = iris.data.features \n",
    "    y = iris.data.targets \n",
    "    \n",
    "    # metadata \n",
    "    print(iris.metadata) \n",
    "    \n",
    "    # variable information \n",
    "    print(iris.variables) \n",
    "    ```"
   ]
  },
  {
   "cell_type": "markdown",
   "metadata": {},
   "source": [
    "2. [Download](https://gist.github.com/netj/8836201) the CSV file, and manually import it (Recommneded for practice purpose)"
   ]
  },
  {
   "cell_type": "markdown",
   "metadata": {},
   "source": []
  },
  {
   "cell_type": "code",
   "execution_count": null,
   "metadata": {
    "vscode": {
     "languageId": "plaintext"
    }
   },
   "outputs": [],
   "source": []
  },
  {
   "cell_type": "markdown",
   "metadata": {},
   "source": []
  }
 ],
 "metadata": {
  "language_info": {
   "name": "python"
  }
 },
 "nbformat": 4,
 "nbformat_minor": 2
}
